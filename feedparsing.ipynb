{
 "cells": [
  {
   "cell_type": "code",
   "execution_count": 3,
   "metadata": {},
   "outputs": [
    {
     "data": {
      "text/plain": [
       "{'title': 'Implementing safety measures at a high-accident spot on the Qazvin-Zanjan freeway',\n",
       " 'title_detail': {'type': 'text/plain',\n",
       "  'language': None,\n",
       "  'base': 'https://news.genie.stanford.edu/rss_17',\n",
       "  'value': 'Implementing safety measures at a high-accident spot on the Qazvin-Zanjan freeway'},\n",
       " 'links': [{'rel': 'alternate',\n",
       "   'type': 'text/html',\n",
       "   'href': 'https://news.genie.stanford.edu/articles/T2PoZk68lETfP64'},\n",
       "  {'length': '10240',\n",
       "   'type': 'image/jpeg',\n",
       "   'href': 'https://cdn.yjc.ir/files/fa/news/1403/2/18/19291557_428.jpg',\n",
       "   'rel': 'enclosure'}],\n",
       " 'link': 'https://news.genie.stanford.edu/articles/T2PoZk68lETfP64',\n",
       " 'summary': 'Javad Haqlatfi, the Director General of Road Maintenance and Transportation for Qazvin Province, stated that a high-accident spot located at kilometer 9 on the Qazvin-Zanjan route is one of the 15 identified high-accident areas approved by the National Road Safety Commission, and it will be completed by the end of July.\\n\\nHe added that the Road Maintenance and Transportation Department of Qazvin Province has started its activities in this area by modifying the route, constructing widening lanes, increasing road width, enhancing traffic capacity, improving signage, and upgrading the lighting system.\\n\\nHaqlatfi continued: Based on the resolution of the National and Provincial Road Safety Commission in March 2023, fifteen high-accident spots were reported to the Road Maintenance and Transportation Department of Qazvin Province, and this spot is among those identified.\\n\\nThe Director General further noted that so far, six of the reported and approved high-accident spots have been rectified. The remaining spots are expected to be addressed by the end of June 2025, subject to funding availability.\\n\\nThe last sentence about notification permission is unrelated to the main text and seems to be an error or misplaced instruction, so it has been omitted.',\n",
       " 'summary_detail': {'type': 'text/html',\n",
       "  'language': None,\n",
       "  'base': 'https://news.genie.stanford.edu/rss_17',\n",
       "  'value': 'Javad Haqlatfi, the Director General of Road Maintenance and Transportation for Qazvin Province, stated that a high-accident spot located at kilometer 9 on the Qazvin-Zanjan route is one of the 15 identified high-accident areas approved by the National Road Safety Commission, and it will be completed by the end of July.\\n\\nHe added that the Road Maintenance and Transportation Department of Qazvin Province has started its activities in this area by modifying the route, constructing widening lanes, increasing road width, enhancing traffic capacity, improving signage, and upgrading the lighting system.\\n\\nHaqlatfi continued: Based on the resolution of the National and Provincial Road Safety Commission in March 2023, fifteen high-accident spots were reported to the Road Maintenance and Transportation Department of Qazvin Province, and this spot is among those identified.\\n\\nThe Director General further noted that so far, six of the reported and approved high-accident spots have been rectified. The remaining spots are expected to be addressed by the end of June 2025, subject to funding availability.\\n\\nThe last sentence about notification permission is unrelated to the main text and seems to be an error or misplaced instruction, so it has been omitted.'},\n",
       " 'id': 'T2PoZk68lETfP64',\n",
       " 'guidislink': False,\n",
       " 'published': 'Tue, 07 May 2024 20:30:06 -0753',\n",
       " 'published_parsed': time.struct_time(tm_year=2024, tm_mon=5, tm_mday=8, tm_hour=4, tm_min=23, tm_sec=6, tm_wday=2, tm_yday=129, tm_isdst=0)}"
      ]
     },
     "execution_count": 3,
     "metadata": {},
     "output_type": "execute_result"
    }
   ],
   "source": [
    "import feedparser\n",
    "\n",
    "url = 'https://news.genie.stanford.edu/rss_17'\n",
    "fetched_feed = feedparser.parse(url)\n",
    "for entry in fetched_feed['entries']:\n",
    "    if entry['title'].startswith('Implementing safety measures'):\n",
    "        scraped_article = entry\n",
    "scraped_article"
   ]
  },
  {
   "cell_type": "code",
   "execution_count": 10,
   "metadata": {},
   "outputs": [
    {
     "data": {
      "text/plain": [
       "{'title': '',\n",
       " 'excerpt': \"The housing market plays a crucial role in the country's economy. Currently, the government has managed to meet some of the housing market's needs by constructing over 2.5 million residential units. According to the Ministry of Roads and Urban Development, the construction of four million homes is mandated under the national housing movement, with 2,518,000…\",\n",
       " 'date': None,\n",
       " 'author': None,\n",
       " 'language': 'en',\n",
       " 'url': 'https://news.genie.stanford.edu/articles/bFrmFrGkkdv39vAqa',\n",
       " 'effective_url': 'https://news.genie.stanford.edu/articles/bFrmFrGkkdv39vAqa',\n",
       " 'domain': 'news.genie.stanford.edu',\n",
       " 'word_count': 983,\n",
       " 'og_url': None,\n",
       " 'og_title': None,\n",
       " 'og_description': None,\n",
       " 'og_image': None,\n",
       " 'og_type': None,\n",
       " 'twitter_card': None,\n",
       " 'twitter_site': None,\n",
       " 'twitter_creator': None,\n",
       " 'twitter_image': None,\n",
       " 'twitter_title': None,\n",
       " 'twitter_description': None,\n",
       " 'content': '<meta /><meta content=\"width=device-width, initial-scale=1.0\" />\\n<p>The housing market plays a crucial role in the country\\'s economy. Currently, the government has managed to meet some of the housing market\\'s needs by constructing over 2.5 million residential units. According to the Ministry of Roads and Urban Development, the construction of four million homes is mandated under the national housing movement, with 2,518,000 units in various stages of construction.</p>\\n<p>In this context, Rouhollah Akbari, the special assistant to the Minister of Roads and Urban Development, stated in an interview that the national housing movement projects are progressing very well. He mentioned that 72,000 hectares of urban land and 50,000 hectares of rural land are being secured across the country. Of this, 37,700 hectares of urban land are in the design and implementation phase, and 24,000 hectares are under construction through individual, group, and mass building efforts. Additionally, renovation and modernization of 490,000 rural housing units have begun.</p>\\n<p>Akbari added that 6.5 million households in the country are renters. Housing has been provided for 1.8 million of these on government lands, with provisions made for the rest through self-owned lands and old urban textures.</p>\\n<p>As the moving season approaches, the government had taken various measures last year to manage this market, including a plan to organize the land, housing, and rental market, which was introduced in parliament last year and recently drafted by the Construction Commission in collaboration with the Ministry of Roads and Urban Development.</p>\\n<p>The implementation of this plan will address some of the rental market issues, facilitating the rental sector. It emphasizes strengthening the rental market through incentives for landlords, utilizing the capacity of municipalities to identify vacant homes, and using this sector\\'s tax revenue to revitalize old urban textures and build affordable housing for the needy. It also mandates all executive agencies to provide necessary information for free in the national real estate and housing system and includes executive guarantees for non-disclosure of information in the system and self-declaration in the national real estate and housing system.</p>\\n<p>Strengthening the national real estate and housing system to identify vacant homes, completing the national real estate and housing system, and recording transactions in the national real estate transactions system are other aspects addressed in this bill. Support for tenants through housing deposit loans and their increase due to inflation in the new year and monitoring the payment of these facilities by banks are other parts of this plan.</p>\\n<p>The plan for controlling and organizing residential property rents is quick and effective. Iqbal Shakari, a member of the Construction Commission of the Parliament, stated in an interview that the parliament has adopted two approaches to manage the housing market: a long-term approach to build one million residential units annually to compensate for housing shortages for el100  7542  100  7542    0     0   166k      0 --:--:-- --:--:-- --:--:--  167kl Property Rents,\" which has been drafted and approved.</p>\\n<p>He emphasized that the plan to control and organize residential property rents is a short-term regulatory plan, the effects of which will soon be evident in the market. This plan has several new features that will remove the housing market from speculation and limit the influence of speculators, brokers, and dealers.</p>\\n<p>Payment of rents can be made through housing information platforms. He further mentioned that the plan separates real estate consultants\\' fees from housing prices, setting fees progressively to prevent conflicts of interest. People can also visit these offices and the document registration offices to register their contracts.</p>\\n<p>Information platforms are anticipated in the plan so that parties can register their contracts themselves without needing to visit the offices. These platforms are connected to the Ministry of Roads and the Judiciary\\'s real estate and housing system, allowing for complete and precisely timed rent payments.</p>\\n<p>Shakari noted that the platform allows for the evaluation of tenants and landlords, enabling them to rate each other, and this information will be visible in future contracts. Also, due to the precise evaluations performed by these platforms, the execution of related decrees is facilitated, and eviction orders are automatically issued. This also ensures that all contracts are standardized, marking a transformation in this area.</p>\\n<p>Hashemi, a housing policy expert, stated in an interview that the current implementation of the land and housing market regulation law is steering the rental housing market towards improvement and prosperity. According to this plan, all contracts, including rentals and sales, must be registered in the system with a tracking code to facilitate the assessment of the housing market situation. In provinces where the annual general inflation rate exceeds 30%, the Supreme Housing Council is required to determine the maximum rent increase cap and interest-free loans ranging from 50 to 100 percent of the annual general inflation.</p>\\n<p>Reducing transaction costs in the housing market and facilitating the buying and selling process are other features of this plan. The National Document and Property Registration Organization is required to provide online access for registration inquiries and the registration of any official document through the data exchange center for the real estate and housing system and the Ministry of Roads and Urban Development\\'s real estate and property system within six months after this law becomes effective.</p>\\n<p>Another focus of this plan is the imposition of taxes on unused lands and how these taxes are spent. To reduce housing market speculation and prevent speculative transactions of units under construction until the residential unit is delivered or meters are installed and a completion certificate is issued, the transfer of national housing movement units in any form is prohibited. This emphasis is also highlighted in the plan.</p>\\n<p>Another important part of this plan is the ranking of real estate consultants based on customer satisfaction, which has been considered in this plan. This plan was approved several times in the parliament, sent to the Guardian Council for some amendments, returned to the parliament from the Guardian Council, and finally approved by the Guardian Council.</p>\\n'}"
      ]
     },
     "execution_count": 10,
     "metadata": {},
     "output_type": "execute_result"
    }
   ],
   "source": [
    "{\n",
    "    \"title\": \"Implementing safety measures at a high-accident spot on the Qazvin-Zanjan freeway\",\n",
    "    \"excerpt\": \"Implementing safety measures at a high-accident spot on the Qazvin-Zanjan freeway Javad Haqlatfi, the Director General of Road Maintenance and Transportation for Qazvin Province, stated that a high-accident spot located at kilometer 9 on the Qazvin-Zanjan route is one of the 15 identified high-accident areas approved by the National Road Safety Commission, and it will…\",\n",
    "    \"date\": None,\n",
    "    \"author\": None,\n",
    "    \"language\": \"en\",\n",
    "    \"url\": \"https://news.genie.stanford.edu/articles/T2PoZk68lETfP64\",\n",
    "    \"effective_url\": \"https://news.genie.stanford.edu/articles/T2PoZk68lETfP64\",\n",
    "    \"domain\": \"news.genie.stanford.edu\",\n",
    "    \"word_count\": 203,\n",
    "    \"og_url\": None,\n",
    "    \"og_title\": None,\n",
    "    \"og_description\": None,\n",
    "    \"og_image\": None,\n",
    "    \"og_type\": None,\n",
    "    \"twitter_card\": None,\n",
    "    \"twitter_site\": None,\n",
    "    \"twitter_creator\": None,\n",
    "    \"twitter_image\": None,\n",
    "    \"twitter_title\": None,\n",
    "    \"twitter_description\": None,\n",
    "    \"content\": \"<p>Implementing safety measures at a high-accident spot on the Qazvin-Zanjan freeway</p><div>\\n<p>Javad Haqlatfi, the Director General of Road Maintenance and ransportation for Qazvin Province, stated that a high-accident spot located at kilometer 9 on the Qazvin-Zanjan route is one of the 15 identified high-accident areas approved by the National Road Safety Commission, and it will be completed by the end of July.</p>\\n<p>He added that the Road Maintenance and Transportation Department of Qazvin Province has started its activities in this area by modifying the route, constructing widening lanes, increasing road width, enhancing traffic capacity, improving signage, and upgrading the lighting system.</p>\\n<p>Haqlatfi continued: Based on the resolution of the National and Provincial Road Safety Commission in March 2023, fifteen high-accident spots were reported to the Road Maintenance and Transportation Department of Qazvin Province, and this spot is among those identified.</p>\\n<p>The Director General further noted that so far, six of the reported and approved high-accident spots have been rectified. The remaining spots are expected to be addressed by the end of June 2025, subject to funding availability.</p>\\n<p>The last sentence about notification permission is unrelated to the main text and seems to be an error or misplaced instruction, so it has been omitted.</p>\\n</div>\"\n",
    "}"
   ]
  },
  {
   "cell_type": "code",
   "execution_count": 4,
   "metadata": {},
   "outputs": [
    {
     "data": {
      "text/plain": [
       "{'title': 'What is the importance of implementing the new validation model?',\n",
       " 'title_detail': {'type': 'text/plain',\n",
       "  'language': None,\n",
       "  'base': 'https://news.genie.stanford.edu/rss_17',\n",
       "  'value': 'What is the importance of implementing the new validation model?'},\n",
       " 'links': [{'rel': 'alternate',\n",
       "   'type': 'text/html',\n",
       "   'href': 'https://news.genie.stanford.edu/articles/bNUC2N3df9EFqVMhs'},\n",
       "  {'length': '10240',\n",
       "   'type': 'image/jpeg',\n",
       "   'href': 'https://cdn.yjc.ir/files/fa/news/1403/2/18/19291692_731.jpg',\n",
       "   'rel': 'enclosure'}],\n",
       " 'link': 'https://news.genie.stanford.edu/articles/bNUC2N3df9EFqVMhs',\n",
       " 'summary': 'On June 21, 2023, the Central Bank announced that the credit scoring model for individuals had been revised and approved by the Credit Assessment Council. This process helps identify financially responsible and irresponsible individuals by collecting data on their financial and credit histories. Credit scoring was introduced in Iran in 2006, with regulations approved that year and revisions made in 2008.\\n\\nCredit scoring is intended to streamline processes, but it has become an obstacle for some. Abbas, a member of the Young Journalists Club, commented, \"A shift in installment payments should not be the primary criterion for credit scoring because a person might be financially responsible but face temporary difficulties, leading to a lower credit score and reduced access to loans. This issue needs to be addressed.\"\\n\\nAsadnejad, another member, stated, \"The credit scoring model needs to consider more factors so that genuine applicants can obtain loans. The current model definitely needs revision.\"\\n\\nMehran Moharamian, Deputy for Modern Technologies at the Central Bank, addressed public complaints about the bank\\'s credit scoring system, where even a single day\\'s delay in installment payments can significantly lower a person\\'s credit score. This is particularly problematic for workers who may receive their wages late. He explained, \"The new credit scoring model has not yet been implemented. Once it is, the way people are scored will change, and the new model will consider more than just their payment history, which is the primary focus of the current model.\"\\n\\nHe added, \"In the new model, other factors will also impact the credit score, including financial convictions and a new aspect involving the decile ranking of subsidies. From now on, individuals claiming to be from lower income deciles cannot receive high-value bank loans; the loan cap will be determined based on subsidy decile information.\"\\n\\nMoharamian continued, \"The new model will also incorporate tax issues, traffic violations, foreign exchange commitments, and other relevant factors, making the ranking much more precise.\"\\n\\nThe credit scoring system is set to be implemented in 2024. Moharamian had previously stated that the system, based on artificial intelligence, would be operational early this year, enhancing credit scoring for banking services.\\n\\nAsghar Balsini, an economic analyst, mentioned that the overhaul of the credit scoring system would encourage the banking system to make repayments and accelerate the disbursement of small loans, significantly aiding the economic system.\\n\\nMehdi Mirzaei, another economic analyst, emphasized the importance of precise and principled credit scoring in reducing risk and resolving issues, which could also speed up the granting of particularly small loans as the risk of non-repayment is lower in this area.\\n\\nAlbert Baghizian, another economic analyst, highlighted the vital role of credit scoring in loan disbursement. He noted that the current model has flaws and can be obstructive. With the Central Bank announcing the implementation of a new model, it is crucial to operationalize it promptly to alleviate the difficulties posed by the current model.\\n\\nWe now await the implementation of the new credit scoring model, which experts say is urgently needed.\\n\\nReporter: Kimia Gholipour\\n\\nYou have not allowed us to send notifications. Please enable notification permissions as shown below.',\n",
       " 'summary_detail': {'type': 'text/html',\n",
       "  'language': None,\n",
       "  'base': 'https://news.genie.stanford.edu/rss_17',\n",
       "  'value': 'On June 21, 2023, the Central Bank announced that the credit scoring model for individuals had been revised and approved by the Credit Assessment Council. This process helps identify financially responsible and irresponsible individuals by collecting data on their financial and credit histories. Credit scoring was introduced in Iran in 2006, with regulations approved that year and revisions made in 2008.\\n\\nCredit scoring is intended to streamline processes, but it has become an obstacle for some. Abbas, a member of the Young Journalists Club, commented, \"A shift in installment payments should not be the primary criterion for credit scoring because a person might be financially responsible but face temporary difficulties, leading to a lower credit score and reduced access to loans. This issue needs to be addressed.\"\\n\\nAsadnejad, another member, stated, \"The credit scoring model needs to consider more factors so that genuine applicants can obtain loans. The current model definitely needs revision.\"\\n\\nMehran Moharamian, Deputy for Modern Technologies at the Central Bank, addressed public complaints about the bank\\'s credit scoring system, where even a single day\\'s delay in installment payments can significantly lower a person\\'s credit score. This is particularly problematic for workers who may receive their wages late. He explained, \"The new credit scoring model has not yet been implemented. Once it is, the way people are scored will change, and the new model will consider more than just their payment history, which is the primary focus of the current model.\"\\n\\nHe added, \"In the new model, other factors will also impact the credit score, including financial convictions and a new aspect involving the decile ranking of subsidies. From now on, individuals claiming to be from lower income deciles cannot receive high-value bank loans; the loan cap will be determined based on subsidy decile information.\"\\n\\nMoharamian continued, \"The new model will also incorporate tax issues, traffic violations, foreign exchange commitments, and other relevant factors, making the ranking much more precise.\"\\n\\nThe credit scoring system is set to be implemented in 2024. Moharamian had previously stated that the system, based on artificial intelligence, would be operational early this year, enhancing credit scoring for banking services.\\n\\nAsghar Balsini, an economic analyst, mentioned that the overhaul of the credit scoring system would encourage the banking system to make repayments and accelerate the disbursement of small loans, significantly aiding the economic system.\\n\\nMehdi Mirzaei, another economic analyst, emphasized the importance of precise and principled credit scoring in reducing risk and resolving issues, which could also speed up the granting of particularly small loans as the risk of non-repayment is lower in this area.\\n\\nAlbert Baghizian, another economic analyst, highlighted the vital role of credit scoring in loan disbursement. He noted that the current model has flaws and can be obstructive. With the Central Bank announcing the implementation of a new model, it is crucial to operationalize it promptly to alleviate the difficulties posed by the current model.\\n\\nWe now await the implementation of the new credit scoring model, which experts say is urgently needed.\\n\\nReporter: Kimia Gholipour\\n\\nYou have not allowed us to send notifications. Please enable notification permissions as shown below.'},\n",
       " 'id': 'bNUC2N3df9EFqVMhs',\n",
       " 'guidislink': False,\n",
       " 'published': 'Tue, 07 May 2024 20:30:11 -0753',\n",
       " 'published_parsed': time.struct_time(tm_year=2024, tm_mon=5, tm_mday=8, tm_hour=4, tm_min=23, tm_sec=11, tm_wday=2, tm_yday=129, tm_isdst=0)}"
      ]
     },
     "execution_count": 4,
     "metadata": {},
     "output_type": "execute_result"
    }
   ],
   "source": [
    "import feedparser\n",
    "\n",
    "url = 'https://news.genie.stanford.edu/rss_17'\n",
    "fetched_feed = feedparser.parse(url)\n",
    "for entry in fetched_feed['entries']:\n",
    "    if entry['title'].startswith('What is the importance'):\n",
    "        scraped_article = entry\n",
    "scraped_article"
   ]
  },
  {
   "cell_type": "code",
   "execution_count": null,
   "metadata": {},
   "outputs": [],
   "source": [
    "{\n",
    "    \"title\": \"What is the importance of implementing the new validation model?\",\n",
    "    \"excerpt\": \"On June 21, 2023, the Central Bank announced that the credit scoring model for individuals had been revised and approved by the Credit Assessment Council. This process helps identify financially responsible and irresponsible individuals by collecting data on their financial and credit histories. Credit scoring was introduced in Iran in 2006, with regulations approved that…\",\n",
    "    \"date\": None,\n",
    "    \"author\": None,\n",
    "    \"language\": \"en\",\n",
    "    \"url\": \"https://news.genie.stanford.edu/articles/bNUC2N3df9EFqVMhs\",\n",
    "    \"effective_url\": \"https://news.genie.stanford.edu/articles/bNUC2N3df9EFqVMhs\",\n",
    "    \"domain\": \"news.genie.stanford.edu\",\n",
    "    \"word_count\": 520,\n",
    "    \"og_url\": None,\n",
    "    \"og_title\": None,\n",
    "    \"og_description\": None,\n",
    "    \"og_image\": None,\n",
    "    \"og_type\": None,\n",
    "    \"twitter_card\": None,\n",
    "    \"twitter_site\": None,\n",
    "    \"twitter_creator\": None,\n",
    "    \"twitter_image\": None,\n",
    "    \"twitter_title\": None,\n",
    "    \"twitter_description\": None,\n",
    "    \"content\": \"<p>On June 21, 2023, the Central Bank announced that the credit scoring model for individuals had been revised and approved by the Credit Assessment Council. This process helps identify financially responsible and irresponsible individuals by collecting data on their financial and credit histories. Credit scoring was introduced in Iran in 2006, with regulations approved that year and revisions made in 2008.</p>\\n<p>Credit scoring is intended to streamline processes, but it has become an obstacle for some. Abbas, a member of the Young Journalists Club, commented, \\\"A shift in installment payments should not be the primary criterion for credit scoring because a person might be financially responsible but face temporary difficulties, leading to a lower credit score and reduced access to loans. This issue needs to be addressed.\\\"</p>\\n<p>Asadnejad, another member, stated, \\\"The credit scoring model needs to consider more factors so that genuine applicants can obtain loans. The current model definitely needs revision.\\\"</p>\\n<p>Mehran Moharamian, Deputy for Modern Technologies at the Central Bank, addressed public complaints about the bank's credit scoring system, where even a single day's delay in installment payments can significantly lower a person's credit score. This is particularly problematic for workers who may receive their wages late. He explained, \\\"The new credit scoring model has not yet been implemented. Once it is, the way people are scored will change, and the new model will consider more than just their payment history, which is the primary focus of the current model.\\\"</p>\\n<p>He added, \\\"In the new model, other factors will also impact the credit score, including financial convictions and a new aspect involving the decile ranking of subsidies. From now on, individuals claiming to be from lower income deciles cannot receive high-value bank loans; the loan cap will be determined based on subsidy decile information.\\\"</p>\\n<p>Moharamian continued, \\\"The new model will also incorporate tax issues, traffic violations, foreign exchange commitments, and other relevant factors, making the ranking much more precise.\\\"</p>\\n<p>The credit scoring system is set to be implemented in 2024. Moharamian had previously stated that the system, based on artificial intelligence, would be operational early this year, enhancing credit scoring for banking services.</p>\\n<p>Asghar Balsini, an economic analyst, mentioned that the overhaul of the credit scoring system would encourage the banking system to make repayments and accelerate the disbursement of small loans, significantly aiding the economic system.</p>\\n<p>Mehdi Mirzaei, another economic analyst, emphasized the importance of precise and principled credit scoring in reducing risk and resolving issues, which could also speed up the granting of particularly small loans as the risk of non-repayment is lower in this area.</p>\\n<p>Albert Baghizian, another economic analyst, highlighted the vital role of credit scoring in loan disbursement. He noted that the curre100  4489  100  4489    0     0   278k      0 --:--:-- --:--:-- --:--:--  292kentation of a new model, it is crucial to operationalize it promptly to alleviate the difficulties posed by the current model.</p>\\n<p>We now await the implementation of the new credit scoring model, which experts say is urgently needed.</p>\\n<p>Reporter: Kimia Gholipour</p>\\n<p>You have not allowed us to send notifications. Please enable notification permissions as shown below.</p>\\n\"\n",
    "}"
   ]
  },
  {
   "cell_type": "code",
   "execution_count": null,
   "metadata": {},
   "outputs": [],
   "source": []
  },
  {
   "cell_type": "code",
   "execution_count": null,
   "metadata": {},
   "outputs": [],
   "source": []
  },
  {
   "cell_type": "code",
   "execution_count": null,
   "metadata": {},
   "outputs": [],
   "source": []
  },
  {
   "cell_type": "code",
   "execution_count": null,
   "metadata": {},
   "outputs": [],
   "source": []
  },
  {
   "cell_type": "code",
   "execution_count": null,
   "metadata": {},
   "outputs": [],
   "source": []
  },
  {
   "cell_type": "code",
   "execution_count": 8,
   "metadata": {},
   "outputs": [
    {
     "data": {
      "text/plain": [
       "{'links': [{'rel': 'alternate',\n",
       "   'type': 'text/html',\n",
       "   'href': 'https://www.cnbc.com/2024/05/12/stock-market-news-for-may-12-2024.html'}],\n",
       " 'link': 'https://www.cnbc.com/2024/05/12/stock-market-news-for-may-12-2024.html',\n",
       " 'id': '107413705',\n",
       " 'guidislink': False,\n",
       " 'metadata_type': 'live_story',\n",
       " 'metadata_id': '107413705',\n",
       " 'metadata_sponsored': 'false',\n",
       " 'title': \"Stock futures are little changed after Dow's best week of the year, investors look toward inflation data: Live updates\",\n",
       " 'title_detail': {'type': 'text/plain',\n",
       "  'language': None,\n",
       "  'base': 'https://search.cnbc.com/rs/search/combinedcms/view.xml?partnerId=wrss01&id=100003114',\n",
       "  'value': \"Stock futures are little changed after Dow's best week of the year, investors look toward inflation data: Live updates\"},\n",
       " 'summary': \"This week's inflation print will guide investor outlook on where monetary policy is headed, and if rate hikes are indeed off the table.\",\n",
       " 'summary_detail': {'type': 'text/html',\n",
       "  'language': None,\n",
       "  'base': 'https://search.cnbc.com/rs/search/combinedcms/view.xml?partnerId=wrss01&id=100003114',\n",
       "  'value': \"This week's inflation print will guide investor outlook on where monetary policy is headed, and if rate hikes are indeed off the table.\"},\n",
       " 'published': 'Sun, 12 May 2024 22:57:17 GMT',\n",
       " 'published_parsed': time.struct_time(tm_year=2024, tm_mon=5, tm_mday=12, tm_hour=22, tm_min=57, tm_sec=17, tm_wday=6, tm_yday=133, tm_isdst=0)}"
      ]
     },
     "execution_count": 8,
     "metadata": {},
     "output_type": "execute_result"
    }
   ],
   "source": [
    "url = 'https://search.cnbc.com/rs/search/combinedcms/view.xml?partnerId=wrss01&id=100003114'\n",
    "fetched_feed = feedparser.parse(url)\n",
    "scraped_article = fetched_feed['entries'][0]\n",
    "scraped_article"
   ]
  },
  {
   "cell_type": "code",
   "execution_count": null,
   "metadata": {},
   "outputs": [],
   "source": [
    "{\n",
    "    \"title\": \"Stock futures are little changed after Dow's best week of the year, investors look toward inflation data: Live updates\",\n",
    "    \"excerpt\": \"Traders work on the floor of the New York Stock Exchange (NYSE) on the last day of trading for the year on December 29, 2023 in New York City.  Spencer Platt | Getty Images News | Getty Images Stock futures were little changed on Sunday, with Wall Street looking toward fresh inflation data this week.\",\n",
    "    \"date\": \"2024-05-12T22:07:59+00:00\",\n",
    "    \"author\": \"Brian Evans\",\n",
    "    \"language\": \"en\",\n",
    "    \"url\": \"https://www.cnbc.com/2024/05/12/stock-market-news-for-may-12-2024.html\",\n",
    "    \"effective_url\": \"https://www.cnbc.com/2024/05/12/stock-market-news-for-may-12-2024.html\",\n",
    "    \"domain\": \"cnbc.com\",\n",
    "    \"word_count\": 238,\n",
    "    \"og_url\": \"https://www.cnbc.com/2024/05/12/stock-market-news-for-may-12-2024.html\",\n",
    "    \"og_title\": \"Stock futures are little changed after Dow's best week of the year, investors look toward inflation data: Live updates\",\n",
    "    \"og_description\": \"This week's inflation print will guide investor outlook on where monetary policy is headed, and if rate hikes are indeed off the table.\",\n",
    "    \"og_image\": \"https://image.cnbcfm.com/api/v1/image/107352729-1703868799959-gettyimages-1892490705-lastday145499_eyovp1mb.jpeg?v=1715549594&w=1920&h=1080\",\n",
    "    \"og_type\": \"article\",\n",
    "    \"twitter_card\": None,\n",
    "    \"twitter_site\": None,\n",
    "    \"twitter_creator\": None,\n",
    "    \"twitter_image\": None,\n",
    "    \"twitter_title\": None,\n",
    "    \"twitter_description\": None,\n",
    "    \"content\": \"<div><img src=\\\"https://image.cnbcfm.com/api/v1/image/107352729-1703868799959-gettyimages-1892490705-lastday145499_eyovp1mb.jpeg?v=1715549594&amp;w=1920&amp;h=1080\\\" class=\\\"ff-og-image-inserted\\\" alt=\\\"image\\\" /></div><div class=\\\"InlineImage-imageEmbed\\\" id=\\\"ArticleBody-InlineImage-107352729\\\" data-test=\\\"InlineImage\\\">\\n<div class=\\\"InlineImage-wrapper\\\">\\n\\n<div>\\n<p>Traders work on the floor of the New York Stock Exchange (NYSE) on the last day of trading for the year on December 29, 2023 in New York City.&nbsp;</p>\\n<p>Spencer Platt | Getty Images News | Getty Images</p>\\n</div>\\n</div>\\n</div>\\n<div class=\\\"group\\\">\\n<p>Stock futures were little changed on Sunday, with Wall Street looking toward fresh inflation data this week.</p>\\n<p>Futures tied to the <span class=\\\"QuoteInBody-quoteNameContainer\\\" data-test=\\\"QuoteInBody\\\" id=\\\"LiveBlogArticle-QuoteInBody-1\\\"><a href=\\\"https://www.cnbc.com/quotes/@SP.1/\\\">S&amp;P 500</a><span class=\\\"QuoteInBody-inlineButton\\\"><span class=\\\"AddToWatchlistButton-watchlistContainer\\\" id=\\\"-WatchlistDropdown\\\" data-analytics-id=\\\"-WatchlistDropdown\\\"><button class=\\\"AddToWatchlistButton-watchlistButton\\\" aria-label=\\\"Add To Watchlist\\\" data-testid=\\\"dropdown-btn\\\"><span class=\\\"QuoteInBody-quoteNameContainer\\\" data-test=\\\"QuoteInBody\\\"></span></button></span></span></span> fell 0.1%, while <span class=\\\"QuoteInBody-quoteNameContainer\\\" data-test=\\\"QuoteInBody\\\" id=\\\"LiveBlogArticle-QuoteInBody-2\\\"><a href=\\\"https://www.cnbc.com/quotes/@ND.1/\\\">Nasdaq 100 futures</a><span class=\\\"QuoteInBody-inlineButton\\\"><span class=\\\"AddToWatchlistButton-watchlistContainer\\\" data-analytics-id=\\\"-WatchlistDropdown\\\"><button class=\\\"AddToWatchlistButton-watchlistButton\\\" aria-label=\\\"Add To Watchlist\\\" data-testid=\\\"dropdown-btn\\\"><span class=\\\"QuoteInBody-quoteNameContainer\\\" data-test=\\\"QuoteInBody\\\"></span></button></span></span></span> hovered near the flatline. <span class=\\\"QuoteInBody-quoteNameContainer\\\" data-test=\\\"QuoteInBody\\\" id=\\\"LiveBlogArticle-QuoteInBody-3\\\"><a href=\\\"https://www.cnbc.com/quotes/@DJ.1/\\\">Dow Jones Industrial Average futures</a><span class=\\\"QuoteInBody-inlineButton\\\"><span class=\\\"AddToWatchlistButton-watchlistContainer\\\" data-analytics-id=\\\"-WatchlistDropdown\\\"><button class=\\\"AddToWatchlistButton-watchlistButton\\\" aria-label=\\\"Add To Watchlist\\\" data-testid=\\\"dropdown-btn\\\"><span class=\\\"QuoteInBody-quoteNameContainer\\\" data-test=\\\"QuoteInBody\\\"></span></button></span></span></span> slipped 37 points, or 0.09%.The 30-stock100  5456  100  5456    0     0   2819      0  0:00:01  0:00:01 --:--:--  2818nbc.com/2024/05/09/stock-market-today-live-updates.html\\\">Friday</a> as well as its best week of the year.</p>\\n<p>Investors will look for insights into the Federal Reserve's monetary policy moving forward with April's consumer price index report due out on Wednesday. Traders hope that a return to rate hikes is largely off the table for the Fed despite a slew of hotter-than-expected inflation prints in recent months. April's CPI print will serve as a <a href=\\\"https://www.cnbc.com/2024/05/10/wall-street-expects-rate-hikes-are-off-the-table-inflation-data-will-test-that.html\\\">key gauge</a> of whether or not equities can remain on stable footing after a stronger-than-expected first-quarter earnings season.</p>\\n<p>Results so far have helped stocks remain&nbsp;<a href=\\\"https://www.cnbc.com/2024/05/12/earnings-playbook-your-guide-to-a-key-week-of-reports-including-wmt.html\\\">resilient</a>&nbsp;despite the inflation overhang. 92% of S&amp;P 500 companies have reported as of Friday, with neatly 80% of firms surpassing Wall Street forecasts, per FactSet data.</p>\\n<p>\\\"Earnings estimates may have become too pessimistic&nbsp;leading into 1Q24 results, and widespread beat-and-raise throughout reporting season appears to have catalyzed a turnaround in sentiment,\\\" Barclays analyst Venu Krishna wrote Friday.</p>\\n</div>\\n\"\n",
    "}"
   ]
  },
  {
   "cell_type": "code",
   "execution_count": null,
   "metadata": {},
   "outputs": [],
   "source": []
  }
 ],
 "metadata": {
  "kernelspec": {
   "display_name": "news",
   "language": "python",
   "name": "python3"
  },
  "language_info": {
   "codemirror_mode": {
    "name": "ipython",
    "version": 3
   },
   "file_extension": ".py",
   "mimetype": "text/x-python",
   "name": "python",
   "nbconvert_exporter": "python",
   "pygments_lexer": "ipython3",
   "version": "3.10.14"
  }
 },
 "nbformat": 4,
 "nbformat_minor": 2
}
